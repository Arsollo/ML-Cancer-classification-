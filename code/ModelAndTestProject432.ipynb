{
  "nbformat": 4,
  "nbformat_minor": 0,
  "metadata": {
    "colab": {
      "provenance": []
    },
    "kernelspec": {
      "name": "python3",
      "display_name": "Python 3"
    },
    "language_info": {
      "name": "python"
    }
  },
  "cells": [
    {
      "cell_type": "code",
      "source": [
        "from google.colab import drive\n",
        "drive.mount('/content/drive')"
      ],
      "metadata": {
        "colab": {
          "base_uri": "https://localhost:8080/"
        },
        "id": "8jn6x-VUy2Qm",
        "outputId": "b2039637-f2dd-4c52-f94c-568f2a758281"
      },
      "execution_count": 1,
      "outputs": [
        {
          "output_type": "stream",
          "name": "stdout",
          "text": [
            "Mounted at /content/drive\n"
          ]
        }
      ]
    },
    {
      "cell_type": "code",
      "source": [
        "!gdown https://drive.google.com/drive/folders/19JWGJib5Y3PixVbsAf-EpYZZkkFvU6DC?usp=sharing"
      ],
      "metadata": {
        "colab": {
          "base_uri": "https://localhost:8080/"
        },
        "id": "gLJWpfMZy3bI",
        "outputId": "31b152ba-3623-4cb4-f3e6-fd334600c89f"
      },
      "execution_count": 2,
      "outputs": [
        {
          "output_type": "stream",
          "name": "stdout",
          "text": [
            "/usr/local/lib/python3.10/dist-packages/gdown/parse_url.py:35: UserWarning: You specified a Google Drive link that is not the correct link to download a file. You might want to try `--fuzzy` option or the following url: https://drive.google.com/uc?id=None\n",
            "  warnings.warn(\n",
            "Downloading...\n",
            "From: https://drive.google.com/drive/folders/19JWGJib5Y3PixVbsAf-EpYZZkkFvU6DC?usp=sharing\n",
            "To: /content/19JWGJib5Y3PixVbsAf-EpYZZkkFvU6DC?usp=sharing\n",
            "1.64kB [00:00, 3.89MB/s]\n"
          ]
        }
      ]
    },
    {
      "cell_type": "code",
      "source": [
        "import os\n",
        "#os.chdir(\"/content/drive/My Drive/Colab Notebooks/Comp432Project/Dataset1/ColorectalCancer_\")#100\n",
        "os.chdir(\"/content/drive/My Drive/Colab Notebooks/500 Data/Colorectal Cancer\") #500"
      ],
      "metadata": {
        "id": "JzJVnF1ey7st"
      },
      "execution_count": 31,
      "outputs": []
    },
    {
      "cell_type": "code",
      "source": [
        "import torch\n",
        "import torch.nn as nn\n",
        "from sklearn.model_selection import train_test_split\n",
        "from torch.utils.data import TensorDataset, DataLoader\n",
        "\n",
        "import torch.optim as optim\n",
        "from torchvision import datasets, transforms\n",
        "\n",
        "import os\n",
        "import numpy as np\n",
        "from PIL import Image\n",
        "\n",
        "import matplotlib.pyplot as plt\n",
        "\n",
        "from sklearn.metrics import confusion_matrix, ConfusionMatrixDisplay\n",
        "\n",
        "#print(torch.cuda.is_available())\n",
        "\n",
        "#torch.cuda.empty_cache()"
      ],
      "metadata": {
        "id": "iGY7lPxlA6N3"
      },
      "execution_count": 32,
      "outputs": []
    },
    {
      "cell_type": "code",
      "source": [
        "def get_data():\n",
        "    #data_dir = '/content/drive/My Drive/Colab Notebooks/Comp432Project/Dataset1/ColorectalCancer_' #100\n",
        "    data_dir = '/content/drive/My Drive/Colab Notebooks/500 Data/Colorectal Cancer' #500\n",
        "    transform = transforms.Compose([transforms.ToTensor(),transforms.Resize((128,128))])\n",
        "    data_set = datasets.ImageFolder(root=data_dir, transform=transform)\n",
        "    print(data_set.classes)\n",
        "\n",
        "    n = len(data_set)  # total number of examples\n",
        "    n_test = int(0.20 * n)  # take ~20% for test\n",
        "    for x in range(0, 9):  # rounding it to be divisible by 4\n",
        "        n_test += 1\n",
        "        if n_test % 4 == 0:\n",
        "            break\n",
        "    train_set, test_set = torch.utils.data.random_split(data_set, [n - n_test, n_test])\n",
        "\n",
        "    train = DataLoader(train_set, batch_size=32, shuffle=True)\n",
        "    test = DataLoader(test_set, batch_size= 10, shuffle=False)\n",
        "\n",
        "\n",
        "    return train, test\n"
      ],
      "metadata": {
        "id": "JSPM_zWYBAhI"
      },
      "execution_count": 33,
      "outputs": []
    },
    {
      "cell_type": "code",
      "execution_count": 6,
      "metadata": {
        "id": "YAU1Kv4ExxQN"
      },
      "outputs": [],
      "source": [
        "\n",
        "# Defining the Model\n",
        "class ResidualBlock(nn.Module):\n",
        "    def __init__(self, in_channels, out_channels, stride=1):\n",
        "        super(ResidualBlock, self).__init__()\n",
        "\n",
        "        # First convolutional layer (conv1)\n",
        "        self.conv1 = nn.Conv2d(in_channels, out_channels, kernel_size=3, stride=stride, padding=1, bias=False)\n",
        "        self.bn1 = nn.BatchNorm2d(out_channels)\n",
        "        self.relu = nn.ReLU(inplace=True)\n",
        "\n",
        "        # Second convolutional layer (conv2)\n",
        "        self.conv2 = nn.Conv2d(out_channels, out_channels, kernel_size=3, stride=1, padding=1, bias=False)\n",
        "        self.bn2 = nn.BatchNorm2d(out_channels)\n",
        "\n",
        "        # Shortcut connection (if needed)\n",
        "        self.shortcut = nn.Sequential()\n",
        "        if stride != 1 or in_channels != out_channels:\n",
        "            self.shortcut = nn.Sequential(\n",
        "                nn.Conv2d(in_channels, out_channels, kernel_size=1, stride=stride, bias=False),\n",
        "                nn.BatchNorm2d(out_channels)\n",
        "            )\n",
        "\n",
        "    def forward(self, x):\n",
        "        out = self.conv1(x)\n",
        "        out = self.bn1(out)\n",
        "        out = self.relu(out)\n",
        "\n",
        "        out = self.conv2(out)\n",
        "        out = self.bn2(out)\n",
        "\n",
        "        out += self.shortcut(x)\n",
        "        out = self.relu(out)\n",
        "\n",
        "        return out\n",
        "\n",
        "\n",
        "#\n",
        "class ResNet18(nn.Module):\n",
        "    def __init__(self, num_classes):\n",
        "        super(ResNet18, self).__init__()\n",
        "\n",
        "        self.conv1 = nn.Conv2d(3, 64, kernel_size=7, stride=2, padding=3, bias=False)\n",
        "        self.bn1 = nn.BatchNorm2d(64)\n",
        "        self.relu = nn.ReLU(inplace=True)\n",
        "        self.maxpool = nn.MaxPool2d(kernel_size=3, stride=2, padding=1)\n",
        "\n",
        "        self.layer1 = self.make_layer(64, 64, 2, stride=1)\n",
        "        self.layer2 = self.make_layer(64, 128, 2, stride=2)\n",
        "        self.layer3 = self.make_layer(128, 256, 2, stride=2)\n",
        "        self.layer4 = self.make_layer(256, 512, 2, stride=2)\n",
        "\n",
        "        self.avgpool = nn.AdaptiveAvgPool2d((1, 1))\n",
        "        self.fc = nn.Linear(512, num_classes)\n",
        "\n",
        "    def make_layer(self, in_channels, out_channels, num_blocks, stride):\n",
        "        layers = []\n",
        "        layers.append(ResidualBlock(in_channels, out_channels, stride))\n",
        "        for _ in range(1, num_blocks):\n",
        "            layers.append(ResidualBlock(out_channels, out_channels, 1))\n",
        "        return nn.Sequential(*layers)\n",
        "\n",
        "    def forward(self, x):\n",
        "        x = self.conv1(x)\n",
        "        x = self.bn1(x)\n",
        "        x = self.relu(x)\n",
        "        # x = self.maxpool(x)\n",
        "\n",
        "        x = self.layer1(x)\n",
        "        x = self.layer2(x)\n",
        "        x = self.layer3(x)\n",
        "        x = self.layer4(x)\n",
        "\n",
        "        x = self.avgpool(x)\n",
        "        x = x.view(x.size(0), -1)\n",
        "        x = self.fc(x)\n",
        "\n",
        "        return x\n",
        "\n"
      ]
    },
    {
      "cell_type": "code",
      "source": [
        "# Getting the data\n",
        "train, test= get_data()\n",
        "# Instanciating the ResNet18 Class created earlier and Assigning it as our model\n",
        "model = ResNet18(3)\n",
        "\n",
        "# The loss function\n",
        "criterion = nn.CrossEntropyLoss()\n",
        "#\n",
        "optimizer = optim.Adam(model.parameters(), lr=0.001)\n",
        "# momentum=0.9\n",
        "\n",
        "# Using Cuda cores for the training\n",
        "#model=model.cuda()\n"
      ],
      "metadata": {
        "colab": {
          "base_uri": "https://localhost:8080/"
        },
        "id": "jVXDuz1vBR5Z",
        "outputId": "04893c0f-4f14-473b-f4ad-7b1b473e085f"
      },
      "execution_count": 34,
      "outputs": [
        {
          "output_type": "stream",
          "name": "stdout",
          "text": [
            "['MUS', 'NORM', 'STR']\n"
          ]
        }
      ]
    },
    {
      "cell_type": "code",
      "source": [
        "# Training\n",
        "num_epoch=10\n",
        "num_epoch_saved=0\n",
        "lr=0.01\n",
        "test_size=0\n",
        "\n",
        "\n",
        "train_losses = []\n",
        "train_accuracy = []\n",
        "test_losses = []\n",
        "test_accuracy = []\n",
        "\n",
        "running_train_losses = []\n",
        "running_test_losses = []\n",
        "\n",
        "#For Saving the model\n",
        "#'/content/drive/My Drive/Colab Notebooks/Saved models/Latest save'\n",
        "model_name_to_save = 'model.pth'\n",
        "save_dir=F\"/content/drive/My Drive/Colab Notebooks/Saved models/Latest save/{model_name_to_save}\"\n",
        "\n",
        "\n",
        "print(\"train\")\n",
        "for epoch in range(num_epoch):\n",
        "    model.train()\n",
        "    loss_train= 0.0\n",
        "    correct = 0\n",
        "    total = 0\n",
        "    test_size=0\n",
        "\n",
        "    if epoch>=1:\n",
        "      state_dict = torch.load(save_dir)\n",
        "      model.load_state_dict(state_dict)\n",
        "\n",
        "\n",
        "    for inputs, labels in train:\n",
        "      optimizer.zero_grad()\n",
        "      outputs = model(inputs)\n",
        "      loss_train = criterion(outputs, labels)\n",
        "      loss_train.backward()\n",
        "      optimizer.step()\n",
        "\n",
        "      #Loss by input Train\n",
        "      loss_by_input=loss_train.item()\n",
        "      loss_train += loss_train.item()\n",
        "      print(f\"Epoch {epoch+1}/{num_epoch}, Loss: {loss_by_input}\")\n",
        "\n",
        "      #Accuracy\n",
        "      total += labels.size(0)\n",
        "      _, predicted = torch.max(outputs.data, 1)\n",
        "      correct += (predicted == labels).sum().item()\n",
        "\n",
        "\n",
        "    # Checking if the loss has improved this epoch. If so it will save that model,\n",
        "    # otherwise it will just reload the previous  model and continue from there.\n",
        "    loss_by_epoch=loss_train / len(train)\n",
        "    print(\"This epoch:\")\n",
        "    print(loss_by_epoch.detach().numpy())\n",
        "    if ((epoch <= 0) or (loss_by_epoch.detach().numpy() <= train_losses[-1])):\n",
        "      num_epoch_saved=num_epoch_saved+1\n",
        "      #Save model\n",
        "      torch.save(model.state_dict(), save_dir)\n",
        "      print('saved')\n",
        "      #Loss by batch Train\n",
        "      train_losses.append(loss_by_epoch.detach().numpy())\n",
        "\n",
        "      running_train_losses.append(loss_by_input) #New\n",
        "\n",
        "      #Accuracy by batch Train\n",
        "      accuracy = correct / total\n",
        "      train_accuracy.append(accuracy)\n",
        "      print(f\"Epoch {epoch+1}/{num_epoch}, Accuracy: {accuracy}\")\n",
        "\n",
        "      #Test\n",
        "      model.eval()\n",
        "      loss_test = 0.0\n",
        "      correct2 = 0\n",
        "      total2 = 0\n",
        "\n",
        "      with torch.no_grad():\n",
        "        for inputs, labels in test:\n",
        "          outputs = model(inputs)\n",
        "\n",
        "          test_size+=1\n",
        "\n",
        "          #Loss Test\n",
        "          loss_test = criterion(outputs, labels)\n",
        "          loss_by_input_test=loss_test.item()#New\n",
        "          loss_test += loss_test.item()\n",
        "\n",
        "          running_test_losses.append(loss_by_input_test)#New\n",
        "\n",
        "          #Accuracy Test\n",
        "          total2 += labels.size(0)\n",
        "          _, predicted2 = torch.max(outputs.data, 1)\n",
        "          correct2 += (predicted2 == labels).sum().item()\n",
        "\n",
        "        loss_by_epoch2=loss_test / len(test)\n",
        "        test_losses.append(loss_by_epoch2.detach().numpy())\n",
        "\n",
        "        accuracy2 = correct2 / total2\n",
        "        test_accuracy.append(accuracy2)\n",
        "        print(test_size)\n",
        "\n",
        "      print(\"Test end\")\n",
        "\n",
        "print(num_epoch)\n",
        "print(len(train_losses))\n",
        "print(len(test_losses))\n",
        "\n",
        "\n",
        "#Save model\n",
        "torch.save(model.state_dict(), save_dir)\n",
        "print('saved')\n",
        "\n",
        "#del model\n",
        "#torch.cuda.empty_cache()\n",
        "\n",
        "# Plot Loss Train\n",
        "plt.plot(range(1, num_epoch_saved+1), train_losses, label='Training Loss')\n",
        "plt.xlabel('Epochs')\n",
        "plt.ylabel('Training Loss')\n",
        "plt.title('Training Loss By Epoch')\n",
        "plt.legend()\n",
        "plt.show()\n",
        "\n",
        "\n",
        "# Plot Accuracy Train\n",
        "plt.plot(range(1, num_epoch_saved+1), train_accuracy , label='Training Accuracy')\n",
        "plt.xlabel('Epochs')\n",
        "plt.ylabel('Training Accuracy')\n",
        "plt.title('Training Accuracy By Epoch')\n",
        "plt.legend()\n",
        "plt.show()\n",
        "\n",
        "# Plot Loss Test\n",
        "plt.plot(range(1, num_epoch_saved+1), test_losses, label='Testing Loss')\n",
        "plt.xlabel('Epochs')\n",
        "plt.ylabel('Testing Loss')\n",
        "plt.title('Testing Loss By Epoch')\n",
        "plt.legend()\n",
        "plt.show()\n",
        "\n",
        "# Plot Accuracy Test\n",
        "plt.plot(range(1, num_epoch_saved+1), test_accuracy , label='Testing Accuracy')\n",
        "plt.xlabel('Epochs')\n",
        "plt.ylabel('Testing Accuracy')\n",
        "plt.title('Testing Accuracy By Epoch')\n",
        "plt.legend()\n",
        "plt.show()\n",
        "\n",
        "\n",
        "#By input\n",
        "plt.plot(range(1, len(running_train_losses)+1), running_train_losses, label='Training Loss by Inputs')\n",
        "plt.xlabel('Inputs')\n",
        "plt.ylabel('Training Loss')\n",
        "plt.title('Training Loss By Inputs')\n",
        "plt.legend()\n",
        "plt.show()\n",
        "\n",
        "plt.plot(range(1, len(running_test_losses)+1), running_test_losses, label='Testing Loss by Inputs')\n",
        "plt.xlabel('Inputs')\n",
        "plt.ylabel('Testing Loss')\n",
        "plt.title('Testing Loss By Inputs')\n",
        "plt.legend()\n",
        "plt.show()\n"
      ],
      "metadata": {
        "colab": {
          "base_uri": "https://localhost:8080/",
          "height": 1000
        },
        "id": "XDwrQFSFBX8Y",
        "outputId": "90922449-c4fb-4410-ff7a-bb88652118b1"
      },
      "execution_count": 30,
      "outputs": [
        {
          "output_type": "stream",
          "name": "stdout",
          "text": [
            "train\n"
          ]
        },
        {
          "output_type": "stream",
          "name": "stderr",
          "text": [
            "/usr/local/lib/python3.10/dist-packages/torchvision/transforms/functional.py:1603: UserWarning: The default value of the antialias parameter of all the resizing transforms (Resize(), RandomResizedCrop(), etc.) will change from None to True in v0.17, in order to be consistent across the PIL and Tensor backends. To suppress this warning, directly pass antialias=True (recommended, future default), antialias=None (current default, which means False for Tensors and True for PIL), or antialias=False (only works on Tensors - PIL will still use antialiasing). This also applies if you are using the inference transforms from the models weights: update the call to weights.transforms(antialias=True).\n",
            "  warnings.warn(\n"
          ]
        },
        {
          "output_type": "stream",
          "name": "stdout",
          "text": [
            "Epoch 1/10, Loss: 1.0976892709732056\n",
            "Epoch 1/10, Loss: 2.6914896965026855\n",
            "Epoch 1/10, Loss: 2.0665268898010254\n",
            "Epoch 1/10, Loss: 1.8049589395523071\n",
            "Epoch 1/10, Loss: 3.189069986343384\n",
            "Epoch 1/10, Loss: 1.0248634815216064\n",
            "Epoch 1/10, Loss: 0.9002000093460083\n",
            "Epoch 1/10, Loss: 0.5329868197441101\n",
            "This epoch:\n",
            "0.1332467\n",
            "saved\n",
            "Epoch 1/10, Accuracy: 0.4322033898305085\n",
            "7\n",
            "Test end\n",
            "Epoch 2/10, Loss: 0.7774129509925842\n",
            "Epoch 2/10, Loss: 0.746524453163147\n",
            "Epoch 2/10, Loss: 0.9423298835754395\n",
            "Epoch 2/10, Loss: 0.7832517027854919\n",
            "Epoch 2/10, Loss: 1.0640789270401\n",
            "Epoch 2/10, Loss: 0.6023486256599426\n",
            "Epoch 2/10, Loss: 0.5040721893310547\n",
            "Epoch 2/10, Loss: 1.5089654922485352\n",
            "This epoch:\n",
            "0.37724137\n",
            "Epoch 3/10, Loss: 0.7653570175170898\n",
            "Epoch 3/10, Loss: 0.7280060052871704\n",
            "Epoch 3/10, Loss: 0.5629312992095947\n",
            "Epoch 3/10, Loss: 0.7112966775894165\n",
            "Epoch 3/10, Loss: 0.4614943861961365\n",
            "Epoch 3/10, Loss: 0.46634212136268616\n",
            "Epoch 3/10, Loss: 0.8399976491928101\n",
            "Epoch 3/10, Loss: 0.6065542101860046\n",
            "This epoch:\n",
            "0.15163855\n"
          ]
        },
        {
          "output_type": "error",
          "ename": "KeyboardInterrupt",
          "evalue": "ignored",
          "traceback": [
            "\u001b[0;31m---------------------------------------------------------------------------\u001b[0m",
            "\u001b[0;31mKeyboardInterrupt\u001b[0m                         Traceback (most recent call last)",
            "\u001b[0;32m<ipython-input-30-c66560cb9532>\u001b[0m in \u001b[0;36m<cell line: 23>\u001b[0;34m()\u001b[0m\n\u001b[1;32m     37\u001b[0m       \u001b[0moutputs\u001b[0m \u001b[0;34m=\u001b[0m \u001b[0mmodel\u001b[0m\u001b[0;34m(\u001b[0m\u001b[0minputs\u001b[0m\u001b[0;34m)\u001b[0m\u001b[0;34m\u001b[0m\u001b[0;34m\u001b[0m\u001b[0m\n\u001b[1;32m     38\u001b[0m       \u001b[0mloss_train\u001b[0m \u001b[0;34m=\u001b[0m \u001b[0mcriterion\u001b[0m\u001b[0;34m(\u001b[0m\u001b[0moutputs\u001b[0m\u001b[0;34m,\u001b[0m \u001b[0mlabels\u001b[0m\u001b[0;34m)\u001b[0m\u001b[0;34m\u001b[0m\u001b[0;34m\u001b[0m\u001b[0m\n\u001b[0;32m---> 39\u001b[0;31m       \u001b[0mloss_train\u001b[0m\u001b[0;34m.\u001b[0m\u001b[0mbackward\u001b[0m\u001b[0;34m(\u001b[0m\u001b[0;34m)\u001b[0m\u001b[0;34m\u001b[0m\u001b[0;34m\u001b[0m\u001b[0m\n\u001b[0m\u001b[1;32m     40\u001b[0m       \u001b[0moptimizer\u001b[0m\u001b[0;34m.\u001b[0m\u001b[0mstep\u001b[0m\u001b[0;34m(\u001b[0m\u001b[0;34m)\u001b[0m\u001b[0;34m\u001b[0m\u001b[0;34m\u001b[0m\u001b[0m\n\u001b[1;32m     41\u001b[0m \u001b[0;34m\u001b[0m\u001b[0m\n",
            "\u001b[0;32m/usr/local/lib/python3.10/dist-packages/torch/_tensor.py\u001b[0m in \u001b[0;36mbackward\u001b[0;34m(self, gradient, retain_graph, create_graph, inputs)\u001b[0m\n\u001b[1;32m    490\u001b[0m                 \u001b[0minputs\u001b[0m\u001b[0;34m=\u001b[0m\u001b[0minputs\u001b[0m\u001b[0;34m,\u001b[0m\u001b[0;34m\u001b[0m\u001b[0;34m\u001b[0m\u001b[0m\n\u001b[1;32m    491\u001b[0m             )\n\u001b[0;32m--> 492\u001b[0;31m         torch.autograd.backward(\n\u001b[0m\u001b[1;32m    493\u001b[0m             \u001b[0mself\u001b[0m\u001b[0;34m,\u001b[0m \u001b[0mgradient\u001b[0m\u001b[0;34m,\u001b[0m \u001b[0mretain_graph\u001b[0m\u001b[0;34m,\u001b[0m \u001b[0mcreate_graph\u001b[0m\u001b[0;34m,\u001b[0m \u001b[0minputs\u001b[0m\u001b[0;34m=\u001b[0m\u001b[0minputs\u001b[0m\u001b[0;34m\u001b[0m\u001b[0;34m\u001b[0m\u001b[0m\n\u001b[1;32m    494\u001b[0m         )\n",
            "\u001b[0;32m/usr/local/lib/python3.10/dist-packages/torch/autograd/__init__.py\u001b[0m in \u001b[0;36mbackward\u001b[0;34m(tensors, grad_tensors, retain_graph, create_graph, grad_variables, inputs)\u001b[0m\n\u001b[1;32m    249\u001b[0m     \u001b[0;31m# some Python versions print out the first line of a multi-line function\u001b[0m\u001b[0;34m\u001b[0m\u001b[0;34m\u001b[0m\u001b[0m\n\u001b[1;32m    250\u001b[0m     \u001b[0;31m# calls in the traceback and some print out the last line\u001b[0m\u001b[0;34m\u001b[0m\u001b[0;34m\u001b[0m\u001b[0m\n\u001b[0;32m--> 251\u001b[0;31m     Variable._execution_engine.run_backward(  # Calls into the C++ engine to run the backward pass\n\u001b[0m\u001b[1;32m    252\u001b[0m         \u001b[0mtensors\u001b[0m\u001b[0;34m,\u001b[0m\u001b[0;34m\u001b[0m\u001b[0;34m\u001b[0m\u001b[0m\n\u001b[1;32m    253\u001b[0m         \u001b[0mgrad_tensors_\u001b[0m\u001b[0;34m,\u001b[0m\u001b[0;34m\u001b[0m\u001b[0;34m\u001b[0m\u001b[0m\n",
            "\u001b[0;31mKeyboardInterrupt\u001b[0m: "
          ]
        }
      ]
    },
    {
      "cell_type": "code",
      "source": [
        "#Test\n",
        "#Load model\n",
        "model_name_to_load = 'model.pth'\n",
        "save_dir=F\"/content/drive/My Drive/Colab Notebooks/Saved models/Latest save/{model_name_to_load}\"\n",
        "\n",
        "state_dict = torch.load(save_dir)\n",
        "model.load_state_dict(state_dict)\n",
        "\n",
        "print('Test')\n",
        "labels_array = []\n",
        "predictions = []\n",
        "\n",
        "model.eval()\n",
        "\n",
        "with torch.no_grad():\n",
        "  for inputs, labels in test:\n",
        "    outputs = model(inputs)\n",
        "    _, predicted = torch.max(outputs.data, 1)\n",
        "    labels_array.extend(labels.cpu().numpy())\n",
        "    predictions.extend(predicted.cpu().numpy())\n",
        "\n",
        "    #labels.extend(labels.cuda().numpy())\n",
        "    #predictions.extend(predicted.cuda().numpy())\n",
        "print(\"end\")\n",
        "\n",
        "# Confusion matrix\n",
        "c_matrix = confusion_matrix(labels_array, predictions, labels=[0, 1, 2])\n",
        "disp = ConfusionMatrixDisplay(c_matrix, display_labels=['NORM', 'MUS', 'STR'])\n",
        "disp.plot(cmap='Blues', values_format='d')\n",
        "plt.title('Confusion Matrix')\n",
        "plt.show()\n"
      ],
      "metadata": {
        "colab": {
          "base_uri": "https://localhost:8080/",
          "height": 561
        },
        "id": "6Cy9oL_4Vb7_",
        "outputId": "c82f0e2f-7922-4fe1-99aa-e544c7f93c23"
      },
      "execution_count": 27,
      "outputs": [
        {
          "output_type": "stream",
          "name": "stdout",
          "text": [
            "Test\n"
          ]
        },
        {
          "output_type": "stream",
          "name": "stderr",
          "text": [
            "/usr/local/lib/python3.10/dist-packages/torchvision/transforms/functional.py:1603: UserWarning: The default value of the antialias parameter of all the resizing transforms (Resize(), RandomResizedCrop(), etc.) will change from None to True in v0.17, in order to be consistent across the PIL and Tensor backends. To suppress this warning, directly pass antialias=True (recommended, future default), antialias=None (current default, which means False for Tensors and True for PIL), or antialias=False (only works on Tensors - PIL will still use antialiasing). This also applies if you are using the inference transforms from the models weights: update the call to weights.transforms(antialias=True).\n",
            "  warnings.warn(\n"
          ]
        },
        {
          "output_type": "stream",
          "name": "stdout",
          "text": [
            "end\n"
          ]
        },
        {
          "output_type": "display_data",
          "data": {
            "text/plain": [
              "<Figure size 640x480 with 2 Axes>"
            ],
            "image/png": "[encoded data removed]"
          },
          "metadata": {}
        }
      ]
    }
  ]
}